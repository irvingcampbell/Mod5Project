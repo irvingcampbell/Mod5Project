{
 "cells": [
  {
   "cell_type": "markdown",
   "metadata": {},
   "source": [
    "# Cleaned data prep code\n",
    "\n",
    "### The following code works as it is supposed to, but it can't complete test_train_split because (I think) not all the NaN-filled columns have been addressed.  \n",
    "\n",
    "#### Code:"
   ]
  },
  {
   "cell_type": "code",
   "execution_count": 16,
   "metadata": {},
   "outputs": [
    {
     "name": "stderr",
     "output_type": "stream",
     "text": [
      "//anaconda3/lib/python3.7/site-packages/pandas/core/indexing.py:494: SettingWithCopyWarning: \n",
      "A value is trying to be set on a copy of a slice from a DataFrame.\n",
      "Try using .loc[row_indexer,col_indexer] = value instead\n",
      "\n",
      "See the caveats in the documentation: http://pandas.pydata.org/pandas-docs/stable/user_guide/indexing.html#returning-a-view-versus-a-copy\n",
      "  self.obj[item] = s\n",
      "//anaconda3/lib/python3.7/site-packages/pandas/core/generic.py:6287: SettingWithCopyWarning: \n",
      "A value is trying to be set on a copy of a slice from a DataFrame\n",
      "\n",
      "See the caveats in the documentation: http://pandas.pydata.org/pandas-docs/stable/user_guide/indexing.html#returning-a-view-versus-a-copy\n",
      "  self._update_inplace(new_data)\n"
     ]
    }
   ],
   "source": [
    "#!/usr/bin/env python3\n",
    "# -*- coding: utf-8 -*-\n",
    "\"\"\"\n",
    "@authors: \n",
    "\"\"\"\n",
    "import numpy as np\n",
    "import pandas as pd\n",
    "from sklearn.model_selection import train_test_split\n",
    "from sklearn.impute import SimpleImputer\n",
    "\n",
    "# Function to drop weight columns\n",
    "def drop_weights(data_frame):\n",
    "    coltodrop = []\n",
    "    for i in range(1, 81):\n",
    "        coltodrop.append('WGTP' + str(i))\n",
    "    return data_frame.drop(coltodrop, axis = 1)\n",
    "\n",
    "# Function to drop allocation columns\n",
    "def drop_allocations(data_frame):\n",
    "    col = data_frame.columns\n",
    "    coltodrop = []\n",
    "    for c in col:\n",
    "        if (c[0]== 'F') & (c[-1] == 'P') & \\\n",
    "           (c != 'FULFP') & (c != 'FULP') & (c != 'FINCP'): \n",
    "            coltodrop.append(c)\n",
    "    return data_frame.drop(coltodrop, axis = 1)\n",
    "\n",
    "# Function to recode the categorical features \n",
    "def recode(data_frame):\n",
    "    # Binary categories\n",
    "    dict_bin = {0: 1, 1: 2}\n",
    "    bin_cols = ['HUGCL', 'NPP', 'NR', 'PSF', 'R18']\n",
    "    for c in bin_cols:\n",
    "        data_frame[c] = data_frame[c].map(dict_bin)\n",
    "    dict_bin = {1: 2, 2: 1}\n",
    "    bin_cols = ['BROADBND', 'COMPOTHX', 'DIALUP', 'HISPEED', 'LAPTOP', 'OTHSVCEX', \\\n",
    "                'SATELLITE', 'SMARTPHONE', 'TABLET', 'TEL', 'BATH', 'REFR', \\\n",
    "                'SINK', 'STOV', 'KIT', 'RNTM']\n",
    "    for c in bin_cols:\n",
    "        data_frame[c] = data_frame[c].map(dict_bin)\n",
    "    dict_bin = {0: 2, 1: 1}\n",
    "    bin_cols = ['SRNT', 'SVAL']\n",
    "    for c in bin_cols:\n",
    "        data_frame[c] = data_frame[c].map(dict_bin)\n",
    "    # Three categories\n",
    "    dict_bin = {1: 2, 2: 1, 9:0}\n",
    "    bin_cols = ['RWAT', 'RWATPR', 'PLM', 'PLMPRP', 'HOTWAT']\n",
    "    for c in bin_cols:\n",
    "        data_frame[c] = data_frame[c].map(dict_bin)\n",
    "    dict_bin = {1: 2, 2: 1, 3: 3}\n",
    "    bin_cols = ['ELEFP', 'FULFP', 'GASFP', 'WATFP']\n",
    "    for c in bin_cols:\n",
    "        data_frame[c] = data_frame[c].map(dict_bin)\n",
    "    return data_frame\n",
    "    \n",
    "def recode_y(data_frame):\n",
    "    dict_bin = {1: 2, 2: 1}\n",
    "    data_frame = data_frame.map(dict_bin)\n",
    "    \n",
    "# Imputer\n",
    "def imputer(data_frame):\n",
    "    data_frame = data_frame.dropna(subset=['HINCP'])\n",
    "    data_frame.loc[:,'HINCP'] = data_frame.HINCP * \\\n",
    "                          data_frame.ADJINC / (10**6) \n",
    "    data_frame['WIF'].fillna(4, inplace=True)\n",
    "    data_frame['WORKSTAT'].fillna(16, inplace=True)\n",
    "    zero_list = ['VEH', 'BATH', 'REFR', 'SINK', 'STOV', 'KIT', 'BDSP', 'BLD', 'RWAT', 'RWATPR', 'PLM', 'PLMPRP', 'SRNT', 'SVAL', 'MV', 'TEN', 'CONP', 'ELEFP', 'ELEP', 'FULFP', 'FULP', 'GASFP', 'GASP', 'HFL']\n",
    "    for col in zero_list:\n",
    "        data_frame[col].fillna(0, inplace=True)\n",
    "    data_frame = data_frame.drop(['ACR', 'AGS', 'FINCP', 'RESMODE', 'VALP', 'VACS'], axis = 1)\n",
    "\n",
    "    return data_frame    \n",
    "    \n",
    "# Import the nationwide data-it is presented in two files \n",
    "file_dir = '/Users/flatironschol/FIS-Projects/Module5/data/'\n",
    "df_a = pd.read_csv('psam_husa.csv') #replace with f'{file_dir}psam_husa.csv if necessary\n",
    "df_b = pd.read_csv('psam_husb.csv') #replace with f'{file_dir}psam_husb.csv if necessary\n",
    "df_a = drop_weights(df_a)\n",
    "df_a = drop_allocations(df_a)\n",
    "df_b = drop_weights(df_b)\n",
    "df_b = drop_allocations(df_b)\n",
    "df = pd.concat((df_a, df_b), axis = 0, ignore_index = True) \n",
    "y = df.FS\n",
    "X = df.drop('FS', axis = 1)\n",
    "X = recode(X)\n",
    "y = recode_y(y)\n",
    "X = imputer(X)\n",
    "# X_train, X_test, y_train, y_test = train_test_split(X, y, test_size = 0.25, \\\n",
    "#                                                     stratify = y, random_state = 1007)"
   ]
  },
  {
   "cell_type": "markdown",
   "metadata": {},
   "source": [
    "#### The columns with NaN's are (along with the NaN's present in y/df.FS):"
   ]
  },
  {
   "cell_type": "code",
   "execution_count": 155,
   "metadata": {},
   "outputs": [
    {
     "data": {
      "text/plain": [
       "['BROADBND',\n",
       " 'DIALUP',\n",
       " 'HISPEED',\n",
       " 'INSP',\n",
       " 'MHP',\n",
       " 'MRGI',\n",
       " 'MRGP',\n",
       " 'MRGT',\n",
       " 'MRGX',\n",
       " 'OTHSVCEX',\n",
       " 'RNTM',\n",
       " 'RNTP',\n",
       " 'SATELLITE',\n",
       " 'SMP',\n",
       " 'WATP',\n",
       " 'FES',\n",
       " 'FPARC',\n",
       " 'GRNTP',\n",
       " 'GRPIP',\n",
       " 'NPF',\n",
       " 'OCPIP',\n",
       " 'SMOCP',\n",
       " 'SMX',\n",
       " 'TAXAMT',\n",
       " 'WKEXREL']"
      ]
     },
     "execution_count": 155,
     "metadata": {},
     "output_type": "execute_result"
    }
   ],
   "source": [
    "X.columns[X.isna().any()].tolist()"
   ]
  },
  {
   "cell_type": "markdown",
   "metadata": {},
   "source": [
    "## -----anything below this is just a scratch pad thing-----"
   ]
  },
  {
   "cell_type": "code",
   "execution_count": 17,
   "metadata": {},
   "outputs": [],
   "source": [
    "tester = df"
   ]
  },
  {
   "cell_type": "code",
   "execution_count": 22,
   "metadata": {},
   "outputs": [],
   "source": [
    "tester = tester.dropna(axis = 1)"
   ]
  },
  {
   "cell_type": "code",
   "execution_count": 29,
   "metadata": {},
   "outputs": [],
   "source": [
    "tester = tester.drop(columns = ['RT', 'SERIALNO'])"
   ]
  },
  {
   "cell_type": "code",
   "execution_count": 30,
   "metadata": {},
   "outputs": [],
   "source": [
    "from statsmodels.stats.outliers_influence import variance_inflation_factor"
   ]
  },
  {
   "cell_type": "code",
   "execution_count": 34,
   "metadata": {},
   "outputs": [],
   "source": [
    "def calculate_vif(X, thresh=100):\n",
    "    cols = X.columns\n",
    "    variables = np.arange(X.shape[1])\n",
    "    dropped=True\n",
    "    while dropped:\n",
    "        dropped=False\n",
    "        print(\"dropped\")\n",
    "        c = X[cols[variables]].values\n",
    "        vif = [variance_inflation_factor(c, ix) for ix in np.arange(c.shape[1])]\n",
    "        maxloc = vif.index(max(vif))\n",
    "        if max(vif) > thresh:\n",
    "            print('dropping \\'' + X[cols[variables]].columns[maxloc] + '\\' at index: ' + str(maxloc))\n",
    "            variables = np.delete(variables, maxloc)\n",
    "            dropped=True\n",
    "    print('Remaining variables:')\n",
    "    print(X.columns[variables])\n",
    "    return X[cols[variables]]"
   ]
  },
  {
   "cell_type": "code",
   "execution_count": 36,
   "metadata": {},
   "outputs": [
    {
     "name": "stdout",
     "output_type": "stream",
     "text": [
      "dropped\n",
      "Remaining variables:\n",
      "Index(['DIVISION', 'PUMA', 'REGION', 'ST', 'ADJHSG', 'ADJINC', 'WGTP', 'NP',\n",
      "       'TYPE'],\n",
      "      dtype='object')\n"
     ]
    },
    {
     "data": {
      "text/html": [
       "<div>\n",
       "<style scoped>\n",
       "    .dataframe tbody tr th:only-of-type {\n",
       "        vertical-align: middle;\n",
       "    }\n",
       "\n",
       "    .dataframe tbody tr th {\n",
       "        vertical-align: top;\n",
       "    }\n",
       "\n",
       "    .dataframe thead th {\n",
       "        text-align: right;\n",
       "    }\n",
       "</style>\n",
       "<table border=\"1\" class=\"dataframe\">\n",
       "  <thead>\n",
       "    <tr style=\"text-align: right;\">\n",
       "      <th></th>\n",
       "      <th>DIVISION</th>\n",
       "      <th>PUMA</th>\n",
       "      <th>REGION</th>\n",
       "      <th>ST</th>\n",
       "      <th>ADJHSG</th>\n",
       "      <th>ADJINC</th>\n",
       "      <th>WGTP</th>\n",
       "      <th>NP</th>\n",
       "      <th>TYPE</th>\n",
       "    </tr>\n",
       "  </thead>\n",
       "  <tbody>\n",
       "    <tr>\n",
       "      <th>0</th>\n",
       "      <td>6</td>\n",
       "      <td>1600</td>\n",
       "      <td>3</td>\n",
       "      <td>1</td>\n",
       "      <td>1000000</td>\n",
       "      <td>1013097</td>\n",
       "      <td>0</td>\n",
       "      <td>1</td>\n",
       "      <td>3</td>\n",
       "    </tr>\n",
       "    <tr>\n",
       "      <th>1</th>\n",
       "      <td>6</td>\n",
       "      <td>1900</td>\n",
       "      <td>3</td>\n",
       "      <td>1</td>\n",
       "      <td>1000000</td>\n",
       "      <td>1013097</td>\n",
       "      <td>0</td>\n",
       "      <td>1</td>\n",
       "      <td>3</td>\n",
       "    </tr>\n",
       "    <tr>\n",
       "      <th>2</th>\n",
       "      <td>6</td>\n",
       "      <td>2000</td>\n",
       "      <td>3</td>\n",
       "      <td>1</td>\n",
       "      <td>1000000</td>\n",
       "      <td>1013097</td>\n",
       "      <td>0</td>\n",
       "      <td>1</td>\n",
       "      <td>2</td>\n",
       "    </tr>\n",
       "    <tr>\n",
       "      <th>3</th>\n",
       "      <td>6</td>\n",
       "      <td>2400</td>\n",
       "      <td>3</td>\n",
       "      <td>1</td>\n",
       "      <td>1000000</td>\n",
       "      <td>1013097</td>\n",
       "      <td>0</td>\n",
       "      <td>1</td>\n",
       "      <td>2</td>\n",
       "    </tr>\n",
       "    <tr>\n",
       "      <th>4</th>\n",
       "      <td>6</td>\n",
       "      <td>2701</td>\n",
       "      <td>3</td>\n",
       "      <td>1</td>\n",
       "      <td>1000000</td>\n",
       "      <td>1013097</td>\n",
       "      <td>0</td>\n",
       "      <td>1</td>\n",
       "      <td>2</td>\n",
       "    </tr>\n",
       "    <tr>\n",
       "      <th>...</th>\n",
       "      <td>...</td>\n",
       "      <td>...</td>\n",
       "      <td>...</td>\n",
       "      <td>...</td>\n",
       "      <td>...</td>\n",
       "      <td>...</td>\n",
       "      <td>...</td>\n",
       "      <td>...</td>\n",
       "      <td>...</td>\n",
       "    </tr>\n",
       "    <tr>\n",
       "      <th>1538866</th>\n",
       "      <td>8</td>\n",
       "      <td>300</td>\n",
       "      <td>4</td>\n",
       "      <td>56</td>\n",
       "      <td>1000000</td>\n",
       "      <td>1013097</td>\n",
       "      <td>104</td>\n",
       "      <td>1</td>\n",
       "      <td>1</td>\n",
       "    </tr>\n",
       "    <tr>\n",
       "      <th>1538867</th>\n",
       "      <td>8</td>\n",
       "      <td>500</td>\n",
       "      <td>4</td>\n",
       "      <td>56</td>\n",
       "      <td>1000000</td>\n",
       "      <td>1013097</td>\n",
       "      <td>80</td>\n",
       "      <td>2</td>\n",
       "      <td>1</td>\n",
       "    </tr>\n",
       "    <tr>\n",
       "      <th>1538868</th>\n",
       "      <td>8</td>\n",
       "      <td>400</td>\n",
       "      <td>4</td>\n",
       "      <td>56</td>\n",
       "      <td>1000000</td>\n",
       "      <td>1013097</td>\n",
       "      <td>102</td>\n",
       "      <td>5</td>\n",
       "      <td>1</td>\n",
       "    </tr>\n",
       "    <tr>\n",
       "      <th>1538869</th>\n",
       "      <td>8</td>\n",
       "      <td>100</td>\n",
       "      <td>4</td>\n",
       "      <td>56</td>\n",
       "      <td>1000000</td>\n",
       "      <td>1013097</td>\n",
       "      <td>50</td>\n",
       "      <td>2</td>\n",
       "      <td>1</td>\n",
       "    </tr>\n",
       "    <tr>\n",
       "      <th>1538870</th>\n",
       "      <td>8</td>\n",
       "      <td>500</td>\n",
       "      <td>4</td>\n",
       "      <td>56</td>\n",
       "      <td>1000000</td>\n",
       "      <td>1013097</td>\n",
       "      <td>75</td>\n",
       "      <td>1</td>\n",
       "      <td>1</td>\n",
       "    </tr>\n",
       "  </tbody>\n",
       "</table>\n",
       "<p>1538871 rows × 9 columns</p>\n",
       "</div>"
      ],
      "text/plain": [
       "         DIVISION  PUMA  REGION  ST   ADJHSG   ADJINC  WGTP  NP  TYPE\n",
       "0               6  1600       3   1  1000000  1013097     0   1     3\n",
       "1               6  1900       3   1  1000000  1013097     0   1     3\n",
       "2               6  2000       3   1  1000000  1013097     0   1     2\n",
       "3               6  2400       3   1  1000000  1013097     0   1     2\n",
       "4               6  2701       3   1  1000000  1013097     0   1     2\n",
       "...           ...   ...     ...  ..      ...      ...   ...  ..   ...\n",
       "1538866         8   300       4  56  1000000  1013097   104   1     1\n",
       "1538867         8   500       4  56  1000000  1013097    80   2     1\n",
       "1538868         8   400       4  56  1000000  1013097   102   5     1\n",
       "1538869         8   100       4  56  1000000  1013097    50   2     1\n",
       "1538870         8   500       4  56  1000000  1013097    75   1     1\n",
       "\n",
       "[1538871 rows x 9 columns]"
      ]
     },
     "execution_count": 36,
     "metadata": {},
     "output_type": "execute_result"
    }
   ],
   "source": [
    "calculate_vif(tester)"
   ]
  },
  {
   "cell_type": "code",
   "execution_count": null,
   "metadata": {},
   "outputs": [],
   "source": []
  },
  {
   "cell_type": "code",
   "execution_count": null,
   "metadata": {},
   "outputs": [],
   "source": []
  },
  {
   "cell_type": "code",
   "execution_count": null,
   "metadata": {},
   "outputs": [],
   "source": []
  },
  {
   "cell_type": "code",
   "execution_count": null,
   "metadata": {},
   "outputs": [],
   "source": []
  },
  {
   "cell_type": "code",
   "execution_count": null,
   "metadata": {},
   "outputs": [],
   "source": []
  },
  {
   "cell_type": "code",
   "execution_count": null,
   "metadata": {},
   "outputs": [],
   "source": []
  },
  {
   "cell_type": "markdown",
   "metadata": {},
   "source": [
    "# Read in csv and explore the data"
   ]
  },
  {
   "cell_type": "code",
   "execution_count": null,
   "metadata": {},
   "outputs": [],
   "source": []
  },
  {
   "cell_type": "code",
   "execution_count": null,
   "metadata": {},
   "outputs": [],
   "source": []
  },
  {
   "cell_type": "code",
   "execution_count": null,
   "metadata": {},
   "outputs": [],
   "source": []
  },
  {
   "cell_type": "code",
   "execution_count": null,
   "metadata": {},
   "outputs": [],
   "source": []
  },
  {
   "cell_type": "code",
   "execution_count": 17,
   "metadata": {},
   "outputs": [],
   "source": [
    "import pandas as pd\n",
    "from sklearn.model_selection import train_test_split"
   ]
  },
  {
   "cell_type": "code",
   "execution_count": 2,
   "metadata": {},
   "outputs": [
    {
     "ename": "NameError",
     "evalue": "name 'pd' is not defined",
     "output_type": "error",
     "traceback": [
      "\u001b[0;31m---------------------------------------------------------------------------\u001b[0m",
      "\u001b[0;31mNameError\u001b[0m                                 Traceback (most recent call last)",
      "\u001b[0;32m<ipython-input-2-599f533de4c7>\u001b[0m in \u001b[0;36m<module>\u001b[0;34m\u001b[0m\n\u001b[1;32m      1\u001b[0m \u001b[0;31m# Import the nationwide data-it is presented in two files\u001b[0m\u001b[0;34m\u001b[0m\u001b[0;34m\u001b[0m\u001b[0;34m\u001b[0m\u001b[0m\n\u001b[1;32m      2\u001b[0m \u001b[0mfile_dir\u001b[0m \u001b[0;34m=\u001b[0m \u001b[0;34m'/Users/flatironschol/FIS-Projects/Module5/data/'\u001b[0m\u001b[0;34m\u001b[0m\u001b[0;34m\u001b[0m\u001b[0m\n\u001b[0;32m----> 3\u001b[0;31m \u001b[0mdf_a\u001b[0m \u001b[0;34m=\u001b[0m \u001b[0mpd\u001b[0m\u001b[0;34m.\u001b[0m\u001b[0mread_csv\u001b[0m\u001b[0;34m(\u001b[0m\u001b[0;34m'psam_husa.csv'\u001b[0m\u001b[0;34m)\u001b[0m\u001b[0;34m\u001b[0m\u001b[0;34m\u001b[0m\u001b[0m\n\u001b[0m\u001b[1;32m      4\u001b[0m \u001b[0mdf_b\u001b[0m \u001b[0;34m=\u001b[0m \u001b[0mpd\u001b[0m\u001b[0;34m.\u001b[0m\u001b[0mread_csv\u001b[0m\u001b[0;34m(\u001b[0m\u001b[0;34m'psam_husb.csv'\u001b[0m\u001b[0;34m)\u001b[0m\u001b[0;34m\u001b[0m\u001b[0;34m\u001b[0m\u001b[0m\n\u001b[1;32m      5\u001b[0m \u001b[0mdf\u001b[0m \u001b[0;34m=\u001b[0m \u001b[0mpd\u001b[0m\u001b[0;34m.\u001b[0m\u001b[0mconcat\u001b[0m\u001b[0;34m(\u001b[0m\u001b[0;34m(\u001b[0m\u001b[0mdf_a\u001b[0m\u001b[0;34m,\u001b[0m \u001b[0mdf_b\u001b[0m\u001b[0;34m)\u001b[0m\u001b[0;34m,\u001b[0m \u001b[0maxis\u001b[0m \u001b[0;34m=\u001b[0m \u001b[0;36m0\u001b[0m\u001b[0;34m,\u001b[0m \u001b[0mignore_index\u001b[0m \u001b[0;34m=\u001b[0m \u001b[0;32mTrue\u001b[0m\u001b[0;34m)\u001b[0m\u001b[0;34m\u001b[0m\u001b[0;34m\u001b[0m\u001b[0m\n",
      "\u001b[0;31mNameError\u001b[0m: name 'pd' is not defined"
     ]
    }
   ],
   "source": [
    "# Import the nationwide data-it is presented in two files \n",
    "file_dir = '/Users/flatironschol/FIS-Projects/Module5/data/'\n",
    "df_a = pd.read_csv('psam_husa.csv')\n",
    "df_b = pd.read_csv('psam_husb.csv')\n",
    "df = pd.concat((df_a, df_b), axis = 0, ignore_index = True) "
   ]
  },
  {
   "cell_type": "code",
   "execution_count": 97,
   "metadata": {},
   "outputs": [],
   "source": [
    "tester = df\n",
    "control = df"
   ]
  },
  {
   "cell_type": "code",
   "execution_count": 67,
   "metadata": {},
   "outputs": [],
   "source": [
    "#!/usr/bin/env python3\n",
    "# -*- coding: utf-8 -*-\n",
    "\"\"\"\n",
    "@authors: \n",
    "\"\"\"\n",
    "import numpy as np\n",
    "import pandas as pd\n",
    "from sklearn.model_selection import train_test_split\n",
    "from sklearn.impute import SimpleImputer\n",
    "\n",
    "# Function to drop weight columns\n",
    "def drop_weights(data_frame):\n",
    "    coltodrop = []\n",
    "    for i in range(1, 81):\n",
    "        coltodrop.append('WGTP' + str(i))\n",
    "    return data_frame.drop(coltodrop, axis = 1)\n",
    "\n",
    "# Function to drop allocation columns\n",
    "def drop_allocations(data_frame):\n",
    "    col = data_frame.columns\n",
    "    coltodrop = []\n",
    "    for c in col:\n",
    "        if (c[0]== 'F') & (c[-1] == 'P') & \\\n",
    "           (c != 'FULFP') & (c != 'FULP') & (c != 'FINCP'): \n",
    "            coltodrop.append(c)\n",
    "    return data_frame.drop(coltodrop, axis = 1)"
   ]
  },
  {
   "cell_type": "code",
   "execution_count": 21,
   "metadata": {},
   "outputs": [],
   "source": [
    "# Function to recode the categorical features \n",
    "def recode(data_frame):\n",
    "    # Binary categories\n",
    "    dict_bin = {0: 1, 1: 2}\n",
    "    bin_cols = ['HUGCL', 'NPP', 'NR', 'PSF', 'R18']\n",
    "    for c in bin_cols:\n",
    "        data_frame[c] = data_frame[c].map(dict_bin)\n",
    "    dict_bin = {1: 2, 2: 1}\n",
    "    bin_cols = ['BROADBND', 'COMPOTHX', 'DIALUP', 'HISPEED', 'LAPTOP', 'OTHSVCEX', \\\n",
    "                'SATELLITE', 'SMARTPHONE', 'TABLET', 'TEL', 'FS', 'BATH', 'REFR', \\\n",
    "                'SINK', 'STOV', 'KIT', 'RNTM']\n",
    "    for c in bin_cols:\n",
    "        data_frame[c] = data_frame[c].map(dict_bin)\n",
    "    dict_bin = {0: 2, 1: 1}\n",
    "    bin_cols = ['SRNT', 'SVAL']\n",
    "    for c in bin_cols:\n",
    "        data_frame[c] = data_frame[c].map(dict_bin)\n",
    "    # Three categories\n",
    "    dict_bin = {1: 2, 2: 1, 9:0}\n",
    "    bin_cols = ['RWAT', 'RWATPR', 'PLM', 'PLMPRP', 'HOTWAT']\n",
    "    for c in bin_cols:\n",
    "        data_frame[c] = data_frame[c].map(dict_bin)\n",
    "    dict_bin = {1: 2, 2: 1, 3: 3}\n",
    "    bin_cols = ['ELEFP', 'FULFP', 'GASFP', 'WATFP']\n",
    "    for c in bin_cols:\n",
    "        data_frame[c] = data_frame[c].map(dict_bin)\n",
    "    return data_frame\n",
    "    "
   ]
  },
  {
   "cell_type": "code",
   "execution_count": 127,
   "metadata": {},
   "outputs": [],
   "source": [
    "# Imputer\n",
    "def imputer(data_frame):\n",
    "    data_frame = data_frame.dropna(subset=['FS', 'HINCP'])\n",
    "    data_frame.loc[:,'HINCP'] = data_frame.HINCP * \\\n",
    "                          data_frame.ADJINC / (10**6) \n",
    "    data_frame['WIF'].fillna(4, inplace=True)\n",
    "    data_frame['WORKSTAT'].fillna(16, inplace=True)\n",
    "    zero_list = ['VEH', 'BATH', 'REFR', 'SINK', 'STOV', 'KIT', 'BDSP', 'BLD', 'RWAT', 'RWATPR', 'PLM', 'PLMPRP', 'SRNT', 'SVAL', 'MV', 'TEN', 'CONP', 'ELEFP', 'ELEP', 'FULFP', 'FULP', 'GASFP', 'GASP', 'HFL']\n",
    "    for col in zero_list:\n",
    "        data_frame[col].fillna(0, inplace=True)\n",
    "    data_frame = data_frame.drop(['ACR', 'AGS', 'FINCP', 'RESMODE', 'VALP', 'VACS'], axis = 1)\n",
    "\n",
    "    return data_frame"
   ]
  },
  {
   "cell_type": "code",
   "execution_count": 128,
   "metadata": {},
   "outputs": [],
   "source": [
    "tester = df\n",
    "control = df"
   ]
  },
  {
   "cell_type": "code",
   "execution_count": 133,
   "metadata": {
    "scrolled": true
   },
   "outputs": [
    {
     "ename": "AttributeError",
     "evalue": "'DataFrame' object has no attribute 'ACR'",
     "output_type": "error",
     "traceback": [
      "\u001b[0;31m---------------------------------------------------------------------------\u001b[0m",
      "\u001b[0;31mAttributeError\u001b[0m                            Traceback (most recent call last)",
      "\u001b[0;32m<ipython-input-133-368e092e08b7>\u001b[0m in \u001b[0;36m<module>\u001b[0;34m\u001b[0m\n\u001b[1;32m      1\u001b[0m \u001b[0mtest2\u001b[0m \u001b[0;34m=\u001b[0m \u001b[0mimputer\u001b[0m\u001b[0;34m(\u001b[0m\u001b[0mtester\u001b[0m\u001b[0;34m)\u001b[0m\u001b[0;34m\u001b[0m\u001b[0;34m\u001b[0m\u001b[0m\n\u001b[0;32m----> 2\u001b[0;31m \u001b[0mtest2\u001b[0m\u001b[0;34m.\u001b[0m\u001b[0mACR\u001b[0m\u001b[0;34m\u001b[0m\u001b[0;34m\u001b[0m\u001b[0m\n\u001b[0m",
      "\u001b[0;32m//anaconda3/lib/python3.7/site-packages/pandas/core/generic.py\u001b[0m in \u001b[0;36m__getattr__\u001b[0;34m(self, name)\u001b[0m\n\u001b[1;32m   5177\u001b[0m             \u001b[0;32mif\u001b[0m \u001b[0mself\u001b[0m\u001b[0;34m.\u001b[0m\u001b[0m_info_axis\u001b[0m\u001b[0;34m.\u001b[0m\u001b[0m_can_hold_identifiers_and_holds_name\u001b[0m\u001b[0;34m(\u001b[0m\u001b[0mname\u001b[0m\u001b[0;34m)\u001b[0m\u001b[0;34m:\u001b[0m\u001b[0;34m\u001b[0m\u001b[0;34m\u001b[0m\u001b[0m\n\u001b[1;32m   5178\u001b[0m                 \u001b[0;32mreturn\u001b[0m \u001b[0mself\u001b[0m\u001b[0;34m[\u001b[0m\u001b[0mname\u001b[0m\u001b[0;34m]\u001b[0m\u001b[0;34m\u001b[0m\u001b[0;34m\u001b[0m\u001b[0m\n\u001b[0;32m-> 5179\u001b[0;31m             \u001b[0;32mreturn\u001b[0m \u001b[0mobject\u001b[0m\u001b[0;34m.\u001b[0m\u001b[0m__getattribute__\u001b[0m\u001b[0;34m(\u001b[0m\u001b[0mself\u001b[0m\u001b[0;34m,\u001b[0m \u001b[0mname\u001b[0m\u001b[0;34m)\u001b[0m\u001b[0;34m\u001b[0m\u001b[0;34m\u001b[0m\u001b[0m\n\u001b[0m\u001b[1;32m   5180\u001b[0m \u001b[0;34m\u001b[0m\u001b[0m\n\u001b[1;32m   5181\u001b[0m     \u001b[0;32mdef\u001b[0m \u001b[0m__setattr__\u001b[0m\u001b[0;34m(\u001b[0m\u001b[0mself\u001b[0m\u001b[0;34m,\u001b[0m \u001b[0mname\u001b[0m\u001b[0;34m,\u001b[0m \u001b[0mvalue\u001b[0m\u001b[0;34m)\u001b[0m\u001b[0;34m:\u001b[0m\u001b[0;34m\u001b[0m\u001b[0;34m\u001b[0m\u001b[0m\n",
      "\u001b[0;31mAttributeError\u001b[0m: 'DataFrame' object has no attribute 'ACR'"
     ]
    }
   ],
   "source": [
    "test2 = imputer(tester)\n",
    "test2.ACR"
   ]
  },
  {
   "cell_type": "code",
   "execution_count": 132,
   "metadata": {},
   "outputs": [
    {
     "data": {
      "text/plain": [
       "array([0.])"
      ]
     },
     "execution_count": 132,
     "metadata": {},
     "output_type": "execute_result"
    }
   ],
   "source": [
    "test2.RWATPR.unique()"
   ]
  },
  {
   "cell_type": "code",
   "execution_count": null,
   "metadata": {},
   "outputs": [],
   "source": []
  },
  {
   "cell_type": "code",
   "execution_count": 121,
   "metadata": {},
   "outputs": [
    {
     "data": {
      "text/plain": [
       "array([    nan,  96400.,  59100., ..., 517130., 211660., 635600.])"
      ]
     },
     "execution_count": 121,
     "metadata": {},
     "output_type": "execute_result"
    }
   ],
   "source": [
    "tester.HINCP.unique()"
   ]
  },
  {
   "cell_type": "code",
   "execution_count": 69,
   "metadata": {},
   "outputs": [],
   "source": [
    "tester = df[['HUGCL', 'NPP', 'NR', 'PSF', 'R18']]"
   ]
  },
  {
   "cell_type": "code",
   "execution_count": 75,
   "metadata": {},
   "outputs": [
    {
     "ename": "AttributeError",
     "evalue": "'DataFrame' object has no attribute 'FULFP'",
     "output_type": "error",
     "traceback": [
      "\u001b[0;31m---------------------------------------------------------------------------\u001b[0m",
      "\u001b[0;31mAttributeError\u001b[0m                            Traceback (most recent call last)",
      "\u001b[0;32m<ipython-input-75-2b96aafe109b>\u001b[0m in \u001b[0;36m<module>\u001b[0;34m\u001b[0m\n\u001b[0;32m----> 1\u001b[0;31m \u001b[0mtester\u001b[0m\u001b[0;34m.\u001b[0m\u001b[0mFULFP\u001b[0m\u001b[0;34m\u001b[0m\u001b[0;34m\u001b[0m\u001b[0m\n\u001b[0m",
      "\u001b[0;32m//anaconda3/lib/python3.7/site-packages/pandas/core/generic.py\u001b[0m in \u001b[0;36m__getattr__\u001b[0;34m(self, name)\u001b[0m\n\u001b[1;32m   5177\u001b[0m             \u001b[0;32mif\u001b[0m \u001b[0mself\u001b[0m\u001b[0;34m.\u001b[0m\u001b[0m_info_axis\u001b[0m\u001b[0;34m.\u001b[0m\u001b[0m_can_hold_identifiers_and_holds_name\u001b[0m\u001b[0;34m(\u001b[0m\u001b[0mname\u001b[0m\u001b[0;34m)\u001b[0m\u001b[0;34m:\u001b[0m\u001b[0;34m\u001b[0m\u001b[0;34m\u001b[0m\u001b[0m\n\u001b[1;32m   5178\u001b[0m                 \u001b[0;32mreturn\u001b[0m \u001b[0mself\u001b[0m\u001b[0;34m[\u001b[0m\u001b[0mname\u001b[0m\u001b[0;34m]\u001b[0m\u001b[0;34m\u001b[0m\u001b[0;34m\u001b[0m\u001b[0m\n\u001b[0;32m-> 5179\u001b[0;31m             \u001b[0;32mreturn\u001b[0m \u001b[0mobject\u001b[0m\u001b[0;34m.\u001b[0m\u001b[0m__getattribute__\u001b[0m\u001b[0;34m(\u001b[0m\u001b[0mself\u001b[0m\u001b[0;34m,\u001b[0m \u001b[0mname\u001b[0m\u001b[0;34m)\u001b[0m\u001b[0;34m\u001b[0m\u001b[0;34m\u001b[0m\u001b[0m\n\u001b[0m\u001b[1;32m   5180\u001b[0m \u001b[0;34m\u001b[0m\u001b[0m\n\u001b[1;32m   5181\u001b[0m     \u001b[0;32mdef\u001b[0m \u001b[0m__setattr__\u001b[0m\u001b[0;34m(\u001b[0m\u001b[0mself\u001b[0m\u001b[0;34m,\u001b[0m \u001b[0mname\u001b[0m\u001b[0;34m,\u001b[0m \u001b[0mvalue\u001b[0m\u001b[0;34m)\u001b[0m\u001b[0;34m:\u001b[0m\u001b[0;34m\u001b[0m\u001b[0;34m\u001b[0m\u001b[0m\n",
      "\u001b[0;31mAttributeError\u001b[0m: 'DataFrame' object has no attribute 'FULFP'"
     ]
    }
   ],
   "source": [
    "tester.FULFP"
   ]
  },
  {
   "cell_type": "code",
   "execution_count": 73,
   "metadata": {},
   "outputs": [
    {
     "name": "stderr",
     "output_type": "stream",
     "text": [
      "//anaconda3/lib/python3.7/site-packages/ipykernel_launcher.py:4: SettingWithCopyWarning: \n",
      "A value is trying to be set on a copy of a slice from a DataFrame.\n",
      "Try using .loc[row_indexer,col_indexer] = value instead\n",
      "\n",
      "See the caveats in the documentation: http://pandas.pydata.org/pandas-docs/stable/user_guide/indexing.html#returning-a-view-versus-a-copy\n",
      "  after removing the cwd from sys.path.\n"
     ]
    }
   ],
   "source": [
    "dict_bin = {0: 1, 1: 2}\n",
    "bin_cols = ['HUGCL', 'NPP', 'NR', 'PSF', 'R18']\n",
    "for c in bin_cols:\n",
    "    tester[c] = tester[c].map(dict_bin)"
   ]
  },
  {
   "cell_type": "code",
   "execution_count": 72,
   "metadata": {},
   "outputs": [
    {
     "data": {
      "text/plain": [
       "0          NaN\n",
       "1          NaN\n",
       "2          NaN\n",
       "3          NaN\n",
       "4          NaN\n",
       "          ... \n",
       "1538866    1.0\n",
       "1538867    1.0\n",
       "1538868    1.0\n",
       "1538869    1.0\n",
       "1538870    1.0\n",
       "Name: HUGCL, Length: 1538871, dtype: float64"
      ]
     },
     "execution_count": 72,
     "metadata": {},
     "output_type": "execute_result"
    }
   ],
   "source": [
    "tester.HUGCL"
   ]
  },
  {
   "cell_type": "code",
   "execution_count": 74,
   "metadata": {},
   "outputs": [
    {
     "data": {
      "text/plain": [
       "0          NaN\n",
       "1          NaN\n",
       "2          NaN\n",
       "3          NaN\n",
       "4          NaN\n",
       "          ... \n",
       "1538866    2.0\n",
       "1538867    2.0\n",
       "1538868    2.0\n",
       "1538869    2.0\n",
       "1538870    2.0\n",
       "Name: HUGCL, Length: 1538871, dtype: float64"
      ]
     },
     "execution_count": 74,
     "metadata": {},
     "output_type": "execute_result"
    }
   ],
   "source": [
    "tester.HUGCL"
   ]
  },
  {
   "cell_type": "code",
   "execution_count": null,
   "metadata": {},
   "outputs": [],
   "source": []
  },
  {
   "cell_type": "code",
   "execution_count": null,
   "metadata": {},
   "outputs": [],
   "source": []
  },
  {
   "cell_type": "code",
   "execution_count": null,
   "metadata": {},
   "outputs": [],
   "source": []
  },
  {
   "cell_type": "code",
   "execution_count": 149,
   "metadata": {},
   "outputs": [],
   "source": [
    "#!/usr/bin/env python3\n",
    "# -*- coding: utf-8 -*-\n",
    "\"\"\"\n",
    "@authors: \n",
    "\"\"\"\n",
    "import numpy as np\n",
    "import pandas as pd\n",
    "from sklearn.model_selection import train_test_split\n",
    "from sklearn.impute import SimpleImputer\n",
    "\n",
    "# Function to drop weight columns\n",
    "def drop_weights(data_frame):\n",
    "    coltodrop = []\n",
    "    for i in range(1, 81):\n",
    "        coltodrop.append('WGTP' + str(i))\n",
    "    return data_frame.drop(coltodrop, axis = 1)\n",
    "\n",
    "# Function to drop allocation columns\n",
    "def drop_allocations(data_frame):\n",
    "    col = data_frame.columns\n",
    "    coltodrop = []\n",
    "    for c in col:\n",
    "        if (c[0]== 'F') & (c[-1] == 'P') & \\\n",
    "           (c != 'FULFP') & (c != 'FULP') & (c != 'FINCP'): \n",
    "            coltodrop.append(c)\n",
    "    return data_frame.drop(coltodrop, axis = 1)\n",
    "\n",
    "# Function to recode the categorical features \n",
    "def recode(data_frame):\n",
    "    # Binary categories\n",
    "    dict_bin = {0: 1, 1: 2}\n",
    "    bin_cols = ['HUGCL', 'NPP', 'NR', 'PSF', 'R18']\n",
    "    for c in bin_cols:\n",
    "        data_frame[c] = data_frame[c].map(dict_bin)\n",
    "    dict_bin = {1: 2, 2: 1}\n",
    "    bin_cols = ['BROADBND', 'COMPOTHX', 'DIALUP', 'HISPEED', 'LAPTOP', 'OTHSVCEX', \\\n",
    "                'SATELLITE', 'SMARTPHONE', 'TABLET', 'TEL', 'BATH', 'REFR', \\\n",
    "                'SINK', 'STOV', 'KIT', 'RNTM']\n",
    "    for c in bin_cols:\n",
    "        data_frame[c] = data_frame[c].map(dict_bin)\n",
    "    dict_bin = {0: 2, 1: 1}\n",
    "    bin_cols = ['SRNT', 'SVAL']\n",
    "    for c in bin_cols:\n",
    "        data_frame[c] = data_frame[c].map(dict_bin)\n",
    "    # Three categories\n",
    "    dict_bin = {1: 2, 2: 1, 9:0}\n",
    "    bin_cols = ['RWAT', 'RWATPR', 'PLM', 'PLMPRP', 'HOTWAT']\n",
    "    for c in bin_cols:\n",
    "        data_frame[c] = data_frame[c].map(dict_bin)\n",
    "    dict_bin = {1: 2, 2: 1, 3: 3}\n",
    "    bin_cols = ['ELEFP', 'FULFP', 'GASFP', 'WATFP']\n",
    "    for c in bin_cols:\n",
    "        data_frame[c] = data_frame[c].map(dict_bin)\n",
    "    return data_frame\n",
    "    \n",
    "def recode_y(data_frame):\n",
    "    dict_bin = {1: 2, 2: 1}\n",
    "    data_frame = data_frame.map(dict_bin)\n",
    "    \n",
    "# Imputer\n",
    "def imputer(data_frame):\n",
    "    data_frame = data_frame.dropna(subset=['HINCP'])\n",
    "    data_frame.loc[:,'HINCP'] = data_frame.HINCP * \\\n",
    "                          data_frame.ADJINC / (10**6) \n",
    "    data_frame['WIF'].fillna(4, inplace=True)\n",
    "    data_frame['WORKSTAT'].fillna(16, inplace=True)\n",
    "    zero_list = ['VEH', 'BATH', 'REFR', 'SINK', 'STOV', 'KIT', 'BDSP', 'BLD', 'RWAT', 'RWATPR', 'PLM', 'PLMPRP', 'SRNT', 'SVAL', 'MV', 'TEN', 'CONP', 'ELEFP', 'ELEP', 'FULFP', 'FULP', 'GASFP', 'GASP', 'HFL']\n",
    "    for col in zero_list:\n",
    "        data_frame[col].fillna(0, inplace=True)\n",
    "    data_frame = data_frame.drop(['ACR', 'AGS', 'FINCP', 'RESMODE', 'VALP', 'VACS'], axis = 1)\n",
    "\n",
    "    return data_frame    \n",
    "    \n",
    "# Import the nationwide data-it is presented in two files \n",
    "file_dir = '/Users/flatironschol/FIS-Projects/Module5/data/'\n",
    "df_a = pd.read_csv('psam_husa.csv')\n",
    "df_b = pd.read_csv('psam_husb.csv')\n",
    "df_a = drop_weights(df_a)\n",
    "df_a = drop_allocations(df_a)\n",
    "df_b = drop_weights(df_b)\n",
    "df_b = drop_allocations(df_b)\n",
    "df = pd.concat((df_a, df_b), axis = 0) \n",
    "y = df.FS\n",
    "X = df.drop('FS', axis = 1)\n",
    "X = recode(X)\n",
    "y = recode_y(y)\n",
    "X = imputer(X)\n",
    "# X_train, X_test, y_train, y_test = train_test_split(X, y, test_size = 0.25, \\\n",
    "#                                                     stratify = y, random_state = 1007)"
   ]
  },
  {
   "cell_type": "code",
   "execution_count": 153,
   "metadata": {},
   "outputs": [
    {
     "data": {
      "text/plain": [
       "(1257501, 92)"
      ]
     },
     "execution_count": 153,
     "metadata": {},
     "output_type": "execute_result"
    }
   ],
   "source": [
    "X."
   ]
  },
  {
   "cell_type": "code",
   "execution_count": 139,
   "metadata": {},
   "outputs": [
    {
     "data": {
      "text/plain": [
       "153475"
      ]
     },
     "execution_count": 139,
     "metadata": {},
     "output_type": "execute_result"
    }
   ],
   "source": []
  },
  {
   "cell_type": "code",
   "execution_count": null,
   "metadata": {},
   "outputs": [],
   "source": []
  },
  {
   "cell_type": "code",
   "execution_count": null,
   "metadata": {},
   "outputs": [],
   "source": []
  },
  {
   "cell_type": "code",
   "execution_count": null,
   "metadata": {},
   "outputs": [],
   "source": []
  },
  {
   "cell_type": "code",
   "execution_count": null,
   "metadata": {},
   "outputs": [],
   "source": []
  },
  {
   "cell_type": "code",
   "execution_count": null,
   "metadata": {},
   "outputs": [],
   "source": []
  },
  {
   "cell_type": "code",
   "execution_count": null,
   "metadata": {},
   "outputs": [],
   "source": []
  },
  {
   "cell_type": "code",
   "execution_count": null,
   "metadata": {},
   "outputs": [],
   "source": []
  },
  {
   "cell_type": "code",
   "execution_count": null,
   "metadata": {},
   "outputs": [],
   "source": []
  },
  {
   "cell_type": "code",
   "execution_count": null,
   "metadata": {},
   "outputs": [],
   "source": []
  },
  {
   "cell_type": "code",
   "execution_count": null,
   "metadata": {},
   "outputs": [],
   "source": []
  },
  {
   "cell_type": "code",
   "execution_count": null,
   "metadata": {},
   "outputs": [],
   "source": []
  },
  {
   "cell_type": "code",
   "execution_count": null,
   "metadata": {},
   "outputs": [],
   "source": []
  },
  {
   "cell_type": "code",
   "execution_count": null,
   "metadata": {},
   "outputs": [],
   "source": []
  },
  {
   "cell_type": "code",
   "execution_count": null,
   "metadata": {},
   "outputs": [],
   "source": []
  },
  {
   "cell_type": "code",
   "execution_count": null,
   "metadata": {},
   "outputs": [],
   "source": []
  },
  {
   "cell_type": "code",
   "execution_count": null,
   "metadata": {},
   "outputs": [],
   "source": []
  },
  {
   "cell_type": "code",
   "execution_count": null,
   "metadata": {},
   "outputs": [],
   "source": []
  },
  {
   "cell_type": "code",
   "execution_count": null,
   "metadata": {},
   "outputs": [],
   "source": []
  },
  {
   "cell_type": "code",
   "execution_count": 16,
   "metadata": {},
   "outputs": [],
   "source": [
    " \n",
    "# Import the nationwide data-it is presented in two files \n",
    "file_dir = '/Users/flatironschol/FIS-Projects/Module5/data/'\n",
    "df_a = pd.read_csv('psam_husa.csv')\n",
    "df_b = pd.read_csv('psam_husb.csv')\n",
    "df_a = drop_weights(df_a)\n",
    "df_a = drop_allocations(df_a)\n",
    "df_b = drop_weights(df_b)\n",
    "df_b = drop_allocations(df_b)\n",
    "df = pd.concat((df_a, df_b), axis = 0) \n",
    "y = df.FS\n",
    "X = df.drop('FS', axis = 1)\n",
    "df = recode(df)\n",
    "df = imputer(df)\n",
    "X_train, X_test, y_train, y_test = train_test_split(X, y, test_size = 0.25, \\\n",
    "                                                    stratify = y, random_state = 1007)"
   ]
  },
  {
   "cell_type": "code",
   "execution_count": 14,
   "metadata": {},
   "outputs": [],
   "source": [
    "imputer(dfus)"
   ]
  },
  {
   "cell_type": "code",
   "execution_count": 15,
   "metadata": {
    "scrolled": true
   },
   "outputs": [
    {
     "ename": "AttributeError",
     "evalue": "'NoneType' object has no attribute 'FS'",
     "output_type": "error",
     "traceback": [
      "\u001b[0;31m---------------------------------------------------------------------------\u001b[0m",
      "\u001b[0;31mAttributeError\u001b[0m                            Traceback (most recent call last)",
      "\u001b[0;32m<ipython-input-15-c002b050a9cc>\u001b[0m in \u001b[0;36m<module>\u001b[0;34m\u001b[0m\n\u001b[0;32m----> 1\u001b[0;31m \u001b[0mdftest\u001b[0m\u001b[0;34m.\u001b[0m\u001b[0mFS\u001b[0m\u001b[0;34m\u001b[0m\u001b[0;34m\u001b[0m\u001b[0m\n\u001b[0m",
      "\u001b[0;31mAttributeError\u001b[0m: 'NoneType' object has no attribute 'FS'"
     ]
    }
   ],
   "source": [
    "dftest.FS"
   ]
  },
  {
   "cell_type": "code",
   "execution_count": 82,
   "metadata": {},
   "outputs": [
    {
     "ename": "AttributeError",
     "evalue": "'NoneType' object has no attribute 'shape'",
     "output_type": "error",
     "traceback": [
      "\u001b[0;31m---------------------------------------------------------------------------\u001b[0m",
      "\u001b[0;31mAttributeError\u001b[0m                            Traceback (most recent call last)",
      "\u001b[0;32m<ipython-input-82-0e566b70f572>\u001b[0m in \u001b[0;36m<module>\u001b[0;34m\u001b[0m\n\u001b[0;32m----> 1\u001b[0;31m \u001b[0mdf\u001b[0m\u001b[0;34m.\u001b[0m\u001b[0mshape\u001b[0m\u001b[0;34m(\u001b[0m\u001b[0;34m)\u001b[0m\u001b[0;34m\u001b[0m\u001b[0;34m\u001b[0m\u001b[0m\n\u001b[0m",
      "\u001b[0;31mAttributeError\u001b[0m: 'NoneType' object has no attribute 'shape'"
     ]
    }
   ],
   "source": [
    "df.shape()"
   ]
  },
  {
   "cell_type": "code",
   "execution_count": 64,
   "metadata": {},
   "outputs": [],
   "source": [
    "testdf = pd.DataFrame(np.random.randn(10,3))"
   ]
  },
  {
   "cell_type": "code",
   "execution_count": 65,
   "metadata": {},
   "outputs": [],
   "source": [
    "testdf.iloc[::2,0] = np.nan; testdf.iloc[::4,1] = np.nan; testdf.iloc[::3,2] = np.nan;"
   ]
  },
  {
   "cell_type": "code",
   "execution_count": 25,
   "metadata": {},
   "outputs": [
    {
     "data": {
      "text/html": [
       "<div>\n",
       "<style scoped>\n",
       "    .dataframe tbody tr th:only-of-type {\n",
       "        vertical-align: middle;\n",
       "    }\n",
       "\n",
       "    .dataframe tbody tr th {\n",
       "        vertical-align: top;\n",
       "    }\n",
       "\n",
       "    .dataframe thead th {\n",
       "        text-align: right;\n",
       "    }\n",
       "</style>\n",
       "<table border=\"1\" class=\"dataframe\">\n",
       "  <thead>\n",
       "    <tr style=\"text-align: right;\">\n",
       "      <th></th>\n",
       "      <th>0</th>\n",
       "      <th>1</th>\n",
       "      <th>2</th>\n",
       "    </tr>\n",
       "  </thead>\n",
       "  <tbody>\n",
       "    <tr>\n",
       "      <th>0</th>\n",
       "      <td>NaN</td>\n",
       "      <td>NaN</td>\n",
       "      <td>NaN</td>\n",
       "    </tr>\n",
       "    <tr>\n",
       "      <th>1</th>\n",
       "      <td>-1.460030</td>\n",
       "      <td>1.338057</td>\n",
       "      <td>-1.249911</td>\n",
       "    </tr>\n",
       "    <tr>\n",
       "      <th>2</th>\n",
       "      <td>NaN</td>\n",
       "      <td>-0.076982</td>\n",
       "      <td>-0.632268</td>\n",
       "    </tr>\n",
       "    <tr>\n",
       "      <th>3</th>\n",
       "      <td>0.555522</td>\n",
       "      <td>-1.153359</td>\n",
       "      <td>NaN</td>\n",
       "    </tr>\n",
       "    <tr>\n",
       "      <th>4</th>\n",
       "      <td>NaN</td>\n",
       "      <td>NaN</td>\n",
       "      <td>0.901570</td>\n",
       "    </tr>\n",
       "    <tr>\n",
       "      <th>5</th>\n",
       "      <td>0.250432</td>\n",
       "      <td>0.425313</td>\n",
       "      <td>-1.105432</td>\n",
       "    </tr>\n",
       "    <tr>\n",
       "      <th>6</th>\n",
       "      <td>NaN</td>\n",
       "      <td>-0.334417</td>\n",
       "      <td>NaN</td>\n",
       "    </tr>\n",
       "    <tr>\n",
       "      <th>7</th>\n",
       "      <td>-0.599216</td>\n",
       "      <td>0.745599</td>\n",
       "      <td>0.001970</td>\n",
       "    </tr>\n",
       "    <tr>\n",
       "      <th>8</th>\n",
       "      <td>NaN</td>\n",
       "      <td>NaN</td>\n",
       "      <td>-0.352204</td>\n",
       "    </tr>\n",
       "    <tr>\n",
       "      <th>9</th>\n",
       "      <td>0.134864</td>\n",
       "      <td>1.484728</td>\n",
       "      <td>NaN</td>\n",
       "    </tr>\n",
       "  </tbody>\n",
       "</table>\n",
       "</div>"
      ],
      "text/plain": [
       "          0         1         2\n",
       "0       NaN       NaN       NaN\n",
       "1 -1.460030  1.338057 -1.249911\n",
       "2       NaN -0.076982 -0.632268\n",
       "3  0.555522 -1.153359       NaN\n",
       "4       NaN       NaN  0.901570\n",
       "5  0.250432  0.425313 -1.105432\n",
       "6       NaN -0.334417       NaN\n",
       "7 -0.599216  0.745599  0.001970\n",
       "8       NaN       NaN -0.352204\n",
       "9  0.134864  1.484728       NaN"
      ]
     },
     "execution_count": 25,
     "metadata": {},
     "output_type": "execute_result"
    }
   ],
   "source": [
    "testdf"
   ]
  },
  {
   "cell_type": "code",
   "execution_count": 40,
   "metadata": {},
   "outputs": [],
   "source": [
    "testdfdropped = testdf.dropna(subset = [2])"
   ]
  },
  {
   "cell_type": "code",
   "execution_count": 41,
   "metadata": {},
   "outputs": [
    {
     "data": {
      "text/html": [
       "<div>\n",
       "<style scoped>\n",
       "    .dataframe tbody tr th:only-of-type {\n",
       "        vertical-align: middle;\n",
       "    }\n",
       "\n",
       "    .dataframe tbody tr th {\n",
       "        vertical-align: top;\n",
       "    }\n",
       "\n",
       "    .dataframe thead th {\n",
       "        text-align: right;\n",
       "    }\n",
       "</style>\n",
       "<table border=\"1\" class=\"dataframe\">\n",
       "  <thead>\n",
       "    <tr style=\"text-align: right;\">\n",
       "      <th></th>\n",
       "      <th>0</th>\n",
       "      <th>1</th>\n",
       "      <th>2</th>\n",
       "    </tr>\n",
       "  </thead>\n",
       "  <tbody>\n",
       "    <tr>\n",
       "      <th>1</th>\n",
       "      <td>-1.460030</td>\n",
       "      <td>1.338057</td>\n",
       "      <td>-1.249911</td>\n",
       "    </tr>\n",
       "    <tr>\n",
       "      <th>2</th>\n",
       "      <td>NaN</td>\n",
       "      <td>-0.076982</td>\n",
       "      <td>-0.632268</td>\n",
       "    </tr>\n",
       "    <tr>\n",
       "      <th>4</th>\n",
       "      <td>NaN</td>\n",
       "      <td>NaN</td>\n",
       "      <td>0.901570</td>\n",
       "    </tr>\n",
       "    <tr>\n",
       "      <th>5</th>\n",
       "      <td>0.250432</td>\n",
       "      <td>0.425313</td>\n",
       "      <td>-1.105432</td>\n",
       "    </tr>\n",
       "    <tr>\n",
       "      <th>7</th>\n",
       "      <td>-0.599216</td>\n",
       "      <td>0.745599</td>\n",
       "      <td>0.001970</td>\n",
       "    </tr>\n",
       "    <tr>\n",
       "      <th>8</th>\n",
       "      <td>NaN</td>\n",
       "      <td>NaN</td>\n",
       "      <td>-0.352204</td>\n",
       "    </tr>\n",
       "  </tbody>\n",
       "</table>\n",
       "</div>"
      ],
      "text/plain": [
       "          0         1         2\n",
       "1 -1.460030  1.338057 -1.249911\n",
       "2       NaN -0.076982 -0.632268\n",
       "4       NaN       NaN  0.901570\n",
       "5  0.250432  0.425313 -1.105432\n",
       "7 -0.599216  0.745599  0.001970\n",
       "8       NaN       NaN -0.352204"
      ]
     },
     "execution_count": 41,
     "metadata": {},
     "output_type": "execute_result"
    }
   ],
   "source": [
    "testdfdropped"
   ]
  },
  {
   "cell_type": "code",
   "execution_count": 66,
   "metadata": {},
   "outputs": [
    {
     "data": {
      "text/html": [
       "<div>\n",
       "<style scoped>\n",
       "    .dataframe tbody tr th:only-of-type {\n",
       "        vertical-align: middle;\n",
       "    }\n",
       "\n",
       "    .dataframe tbody tr th {\n",
       "        vertical-align: top;\n",
       "    }\n",
       "\n",
       "    .dataframe thead th {\n",
       "        text-align: right;\n",
       "    }\n",
       "</style>\n",
       "<table border=\"1\" class=\"dataframe\">\n",
       "  <thead>\n",
       "    <tr style=\"text-align: right;\">\n",
       "      <th></th>\n",
       "      <th>0</th>\n",
       "      <th>1</th>\n",
       "      <th>2</th>\n",
       "    </tr>\n",
       "  </thead>\n",
       "  <tbody>\n",
       "    <tr>\n",
       "      <th>0</th>\n",
       "      <td>NaN</td>\n",
       "      <td>789789789</td>\n",
       "      <td>NaN</td>\n",
       "    </tr>\n",
       "    <tr>\n",
       "      <th>1</th>\n",
       "      <td>0.291206</td>\n",
       "      <td>-1.07383</td>\n",
       "      <td>-1.347451</td>\n",
       "    </tr>\n",
       "    <tr>\n",
       "      <th>2</th>\n",
       "      <td>NaN</td>\n",
       "      <td>0.0294676</td>\n",
       "      <td>-1.466109</td>\n",
       "    </tr>\n",
       "    <tr>\n",
       "      <th>3</th>\n",
       "      <td>1.254141</td>\n",
       "      <td>-0.0606889</td>\n",
       "      <td>NaN</td>\n",
       "    </tr>\n",
       "    <tr>\n",
       "      <th>4</th>\n",
       "      <td>NaN</td>\n",
       "      <td>789789789</td>\n",
       "      <td>-0.239185</td>\n",
       "    </tr>\n",
       "    <tr>\n",
       "      <th>5</th>\n",
       "      <td>-1.906831</td>\n",
       "      <td>1.07313</td>\n",
       "      <td>0.300592</td>\n",
       "    </tr>\n",
       "    <tr>\n",
       "      <th>6</th>\n",
       "      <td>NaN</td>\n",
       "      <td>0.082062</td>\n",
       "      <td>NaN</td>\n",
       "    </tr>\n",
       "    <tr>\n",
       "      <th>7</th>\n",
       "      <td>0.058171</td>\n",
       "      <td>-0.0242473</td>\n",
       "      <td>2.226617</td>\n",
       "    </tr>\n",
       "    <tr>\n",
       "      <th>8</th>\n",
       "      <td>NaN</td>\n",
       "      <td>789789789</td>\n",
       "      <td>-0.166204</td>\n",
       "    </tr>\n",
       "    <tr>\n",
       "      <th>9</th>\n",
       "      <td>1.119430</td>\n",
       "      <td>-1.05928</td>\n",
       "      <td>NaN</td>\n",
       "    </tr>\n",
       "  </tbody>\n",
       "</table>\n",
       "</div>"
      ],
      "text/plain": [
       "          0          1         2\n",
       "0       NaN  789789789       NaN\n",
       "1  0.291206   -1.07383 -1.347451\n",
       "2       NaN  0.0294676 -1.466109\n",
       "3  1.254141 -0.0606889       NaN\n",
       "4       NaN  789789789 -0.239185\n",
       "5 -1.906831    1.07313  0.300592\n",
       "6       NaN   0.082062       NaN\n",
       "7  0.058171 -0.0242473  2.226617\n",
       "8       NaN  789789789 -0.166204\n",
       "9  1.119430   -1.05928       NaN"
      ]
     },
     "execution_count": 66,
     "metadata": {},
     "output_type": "execute_result"
    }
   ],
   "source": [
    "testdf[1].fillna('789789789', inplace=True)\n",
    "testdf"
   ]
  },
  {
   "cell_type": "code",
   "execution_count": 17,
   "metadata": {},
   "outputs": [
    {
     "data": {
      "text/plain": [
       "array([ 2.,  1., nan])"
      ]
     },
     "execution_count": 17,
     "metadata": {},
     "output_type": "execute_result"
    }
   ],
   "source": [
    "testdf.FS.unique()"
   ]
  },
  {
   "cell_type": "code",
   "execution_count": 18,
   "metadata": {},
   "outputs": [],
   "source": [
    "testdfdropped = testdf.dropna(subset = ['FS'])"
   ]
  },
  {
   "cell_type": "code",
   "execution_count": 20,
   "metadata": {},
   "outputs": [
    {
     "data": {
      "text/plain": [
       "array([2., 1.])"
      ]
     },
     "execution_count": 20,
     "metadata": {},
     "output_type": "execute_result"
    }
   ],
   "source": [
    "testdfdropped.FS.unique()"
   ]
  },
  {
   "cell_type": "code",
   "execution_count": 21,
   "metadata": {},
   "outputs": [
    {
     "data": {
      "text/plain": [
       "(1538871, 99)"
      ]
     },
     "execution_count": 21,
     "metadata": {},
     "output_type": "execute_result"
    }
   ],
   "source": [
    "testdf.shape"
   ]
  },
  {
   "cell_type": "code",
   "execution_count": 22,
   "metadata": {},
   "outputs": [
    {
     "data": {
      "text/plain": [
       "(1410976, 99)"
      ]
     },
     "execution_count": 22,
     "metadata": {},
     "output_type": "execute_result"
    }
   ],
   "source": [
    "testdfdropped.shape"
   ]
  },
  {
   "cell_type": "code",
   "execution_count": 46,
   "metadata": {},
   "outputs": [
    {
     "ename": "SyntaxError",
     "evalue": "invalid syntax (<ipython-input-46-c1c4b96e601b>, line 1)",
     "output_type": "error",
     "traceback": [
      "\u001b[0;36m  File \u001b[0;32m\"<ipython-input-46-c1c4b96e601b>\"\u001b[0;36m, line \u001b[0;32m1\u001b[0m\n\u001b[0;31m    imptr(testdf.1)\u001b[0m\n\u001b[0m                 ^\u001b[0m\n\u001b[0;31mSyntaxError\u001b[0m\u001b[0;31m:\u001b[0m invalid syntax\n"
     ]
    }
   ],
   "source": [
    "imptr(testdf.1)"
   ]
  },
  {
   "cell_type": "code",
   "execution_count": null,
   "metadata": {},
   "outputs": [],
   "source": []
  }
 ],
 "metadata": {
  "kernelspec": {
   "display_name": "Python 3",
   "language": "python",
   "name": "python3"
  },
  "language_info": {
   "codemirror_mode": {
    "name": "ipython",
    "version": 3
   },
   "file_extension": ".py",
   "mimetype": "text/x-python",
   "name": "python",
   "nbconvert_exporter": "python",
   "pygments_lexer": "ipython3",
   "version": "3.7.3"
  }
 },
 "nbformat": 4,
 "nbformat_minor": 2
}
